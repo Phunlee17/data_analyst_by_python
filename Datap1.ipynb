{
 "cells": [
  {
   "cell_type": "code",
   "execution_count": 1,
   "id": "0ced52db-c094-46b4-9f10-b0a49108cdee",
   "metadata": {},
   "outputs": [],
   "source": [
    "import pandas as pd\n",
    "import numpy as np\n",
    "import matplotlib.pyplot as plt\n",
    "import seaborn as sns"
   ]
  },
  {
   "cell_type": "code",
   "execution_count": 2,
   "id": "aa79e627-0a96-4406-8029-edfc76d99059",
   "metadata": {},
   "outputs": [],
   "source": [
    "df = pd.read_csv(\"/Users/84869/DATA ANALYST/archive/delhivery.csv\")"
   ]
  },
  {
   "cell_type": "code",
   "execution_count": 3,
   "id": "b6b2d429-c951-4ed1-9df2-93bff40a08bb",
   "metadata": {},
   "outputs": [
    {
     "name": "stdout",
     "output_type": "stream",
     "text": [
      "<class 'pandas.core.frame.DataFrame'>\n",
      "RangeIndex: 144867 entries, 0 to 144866\n",
      "Data columns (total 24 columns):\n",
      " #   Column                          Non-Null Count   Dtype  \n",
      "---  ------                          --------------   -----  \n",
      " 0   data                            144867 non-null  object \n",
      " 1   trip_creation_time              144867 non-null  object \n",
      " 2   route_schedule_uuid             144867 non-null  object \n",
      " 3   route_type                      144867 non-null  object \n",
      " 4   trip_uuid                       144867 non-null  object \n",
      " 5   source_center                   144867 non-null  object \n",
      " 6   source_name                     144574 non-null  object \n",
      " 7   destination_center              144867 non-null  object \n",
      " 8   destination_name                144606 non-null  object \n",
      " 9   od_start_time                   144867 non-null  object \n",
      " 10  od_end_time                     144867 non-null  object \n",
      " 11  start_scan_to_end_scan          144867 non-null  float64\n",
      " 12  is_cutoff                       144867 non-null  bool   \n",
      " 13  cutoff_factor                   144867 non-null  int64  \n",
      " 14  cutoff_timestamp                144867 non-null  object \n",
      " 15  actual_distance_to_destination  144867 non-null  float64\n",
      " 16  actual_time                     144867 non-null  float64\n",
      " 17  osrm_time                       144867 non-null  float64\n",
      " 18  osrm_distance                   144867 non-null  float64\n",
      " 19  factor                          144867 non-null  float64\n",
      " 20  segment_actual_time             144867 non-null  float64\n",
      " 21  segment_osrm_time               144867 non-null  float64\n",
      " 22  segment_osrm_distance           144867 non-null  float64\n",
      " 23  segment_factor                  144867 non-null  float64\n",
      "dtypes: bool(1), float64(10), int64(1), object(12)\n",
      "memory usage: 25.6+ MB\n"
     ]
    }
   ],
   "source": [
    "df.info()"
   ]
  },
  {
   "cell_type": "code",
   "execution_count": 38,
   "id": "3eb60977-b0bb-41d7-867c-964a2c02584a",
   "metadata": {},
   "outputs": [
    {
     "data": {
      "text/html": [
       "<div>\n",
       "<style scoped>\n",
       "    .dataframe tbody tr th:only-of-type {\n",
       "        vertical-align: middle;\n",
       "    }\n",
       "\n",
       "    .dataframe tbody tr th {\n",
       "        vertical-align: top;\n",
       "    }\n",
       "\n",
       "    .dataframe thead th {\n",
       "        text-align: right;\n",
       "    }\n",
       "</style>\n",
       "<table border=\"1\" class=\"dataframe\">\n",
       "  <thead>\n",
       "    <tr style=\"text-align: right;\">\n",
       "      <th></th>\n",
       "      <th>count</th>\n",
       "      <th>mean</th>\n",
       "      <th>std</th>\n",
       "      <th>min</th>\n",
       "      <th>25%</th>\n",
       "      <th>50%</th>\n",
       "      <th>75%</th>\n",
       "      <th>max</th>\n",
       "    </tr>\n",
       "  </thead>\n",
       "  <tbody>\n",
       "    <tr>\n",
       "      <th>start_scan_to_end_scan</th>\n",
       "      <td>144867.0</td>\n",
       "      <td>961.262986</td>\n",
       "      <td>1037.012769</td>\n",
       "      <td>20.000000</td>\n",
       "      <td>161.000000</td>\n",
       "      <td>449.000000</td>\n",
       "      <td>1634.000000</td>\n",
       "      <td>7898.000000</td>\n",
       "    </tr>\n",
       "    <tr>\n",
       "      <th>cutoff_factor</th>\n",
       "      <td>144867.0</td>\n",
       "      <td>232.926567</td>\n",
       "      <td>344.755577</td>\n",
       "      <td>9.000000</td>\n",
       "      <td>22.000000</td>\n",
       "      <td>66.000000</td>\n",
       "      <td>286.000000</td>\n",
       "      <td>1927.000000</td>\n",
       "    </tr>\n",
       "    <tr>\n",
       "      <th>actual_distance_to_destination</th>\n",
       "      <td>144867.0</td>\n",
       "      <td>234.073372</td>\n",
       "      <td>344.990009</td>\n",
       "      <td>9.000045</td>\n",
       "      <td>23.355874</td>\n",
       "      <td>66.126571</td>\n",
       "      <td>286.708875</td>\n",
       "      <td>1927.447705</td>\n",
       "    </tr>\n",
       "    <tr>\n",
       "      <th>actual_time</th>\n",
       "      <td>144867.0</td>\n",
       "      <td>416.927527</td>\n",
       "      <td>598.103621</td>\n",
       "      <td>9.000000</td>\n",
       "      <td>51.000000</td>\n",
       "      <td>132.000000</td>\n",
       "      <td>513.000000</td>\n",
       "      <td>4532.000000</td>\n",
       "    </tr>\n",
       "    <tr>\n",
       "      <th>osrm_time</th>\n",
       "      <td>144867.0</td>\n",
       "      <td>213.868272</td>\n",
       "      <td>308.011085</td>\n",
       "      <td>6.000000</td>\n",
       "      <td>27.000000</td>\n",
       "      <td>64.000000</td>\n",
       "      <td>257.000000</td>\n",
       "      <td>1686.000000</td>\n",
       "    </tr>\n",
       "    <tr>\n",
       "      <th>osrm_distance</th>\n",
       "      <td>144867.0</td>\n",
       "      <td>284.771297</td>\n",
       "      <td>421.119294</td>\n",
       "      <td>9.008200</td>\n",
       "      <td>29.914700</td>\n",
       "      <td>78.525800</td>\n",
       "      <td>343.193250</td>\n",
       "      <td>2326.199100</td>\n",
       "    </tr>\n",
       "    <tr>\n",
       "      <th>factor</th>\n",
       "      <td>144867.0</td>\n",
       "      <td>2.120107</td>\n",
       "      <td>1.715421</td>\n",
       "      <td>0.144000</td>\n",
       "      <td>1.604264</td>\n",
       "      <td>1.857143</td>\n",
       "      <td>2.213483</td>\n",
       "      <td>77.387097</td>\n",
       "    </tr>\n",
       "    <tr>\n",
       "      <th>segment_actual_time</th>\n",
       "      <td>144867.0</td>\n",
       "      <td>36.196111</td>\n",
       "      <td>53.571158</td>\n",
       "      <td>-244.000000</td>\n",
       "      <td>20.000000</td>\n",
       "      <td>29.000000</td>\n",
       "      <td>40.000000</td>\n",
       "      <td>3051.000000</td>\n",
       "    </tr>\n",
       "    <tr>\n",
       "      <th>segment_osrm_time</th>\n",
       "      <td>144867.0</td>\n",
       "      <td>18.507548</td>\n",
       "      <td>14.775960</td>\n",
       "      <td>0.000000</td>\n",
       "      <td>11.000000</td>\n",
       "      <td>17.000000</td>\n",
       "      <td>22.000000</td>\n",
       "      <td>1611.000000</td>\n",
       "    </tr>\n",
       "    <tr>\n",
       "      <th>segment_osrm_distance</th>\n",
       "      <td>144867.0</td>\n",
       "      <td>22.829020</td>\n",
       "      <td>17.860660</td>\n",
       "      <td>0.000000</td>\n",
       "      <td>12.070100</td>\n",
       "      <td>23.513000</td>\n",
       "      <td>27.813250</td>\n",
       "      <td>2191.403700</td>\n",
       "    </tr>\n",
       "    <tr>\n",
       "      <th>segment_factor</th>\n",
       "      <td>144867.0</td>\n",
       "      <td>2.218368</td>\n",
       "      <td>4.847530</td>\n",
       "      <td>-23.444444</td>\n",
       "      <td>1.347826</td>\n",
       "      <td>1.684211</td>\n",
       "      <td>2.250000</td>\n",
       "      <td>574.250000</td>\n",
       "    </tr>\n",
       "  </tbody>\n",
       "</table>\n",
       "</div>"
      ],
      "text/plain": [
       "                                   count        mean          std         min  \\\n",
       "start_scan_to_end_scan          144867.0  961.262986  1037.012769   20.000000   \n",
       "cutoff_factor                   144867.0  232.926567   344.755577    9.000000   \n",
       "actual_distance_to_destination  144867.0  234.073372   344.990009    9.000045   \n",
       "actual_time                     144867.0  416.927527   598.103621    9.000000   \n",
       "osrm_time                       144867.0  213.868272   308.011085    6.000000   \n",
       "osrm_distance                   144867.0  284.771297   421.119294    9.008200   \n",
       "factor                          144867.0    2.120107     1.715421    0.144000   \n",
       "segment_actual_time             144867.0   36.196111    53.571158 -244.000000   \n",
       "segment_osrm_time               144867.0   18.507548    14.775960    0.000000   \n",
       "segment_osrm_distance           144867.0   22.829020    17.860660    0.000000   \n",
       "segment_factor                  144867.0    2.218368     4.847530  -23.444444   \n",
       "\n",
       "                                       25%         50%          75%  \\\n",
       "start_scan_to_end_scan          161.000000  449.000000  1634.000000   \n",
       "cutoff_factor                    22.000000   66.000000   286.000000   \n",
       "actual_distance_to_destination   23.355874   66.126571   286.708875   \n",
       "actual_time                      51.000000  132.000000   513.000000   \n",
       "osrm_time                        27.000000   64.000000   257.000000   \n",
       "osrm_distance                    29.914700   78.525800   343.193250   \n",
       "factor                            1.604264    1.857143     2.213483   \n",
       "segment_actual_time              20.000000   29.000000    40.000000   \n",
       "segment_osrm_time                11.000000   17.000000    22.000000   \n",
       "segment_osrm_distance            12.070100   23.513000    27.813250   \n",
       "segment_factor                    1.347826    1.684211     2.250000   \n",
       "\n",
       "                                        max  \n",
       "start_scan_to_end_scan          7898.000000  \n",
       "cutoff_factor                   1927.000000  \n",
       "actual_distance_to_destination  1927.447705  \n",
       "actual_time                     4532.000000  \n",
       "osrm_time                       1686.000000  \n",
       "osrm_distance                   2326.199100  \n",
       "factor                            77.387097  \n",
       "segment_actual_time             3051.000000  \n",
       "segment_osrm_time               1611.000000  \n",
       "segment_osrm_distance           2191.403700  \n",
       "segment_factor                   574.250000  "
      ]
     },
     "execution_count": 38,
     "metadata": {},
     "output_type": "execute_result"
    }
   ],
   "source": [
    "df.describe().T"
   ]
  },
  {
   "cell_type": "code",
   "execution_count": 40,
   "id": "aad928cb-1cc4-4e9f-9629-8a6e349e77b6",
   "metadata": {},
   "outputs": [
    {
     "data": {
      "text/plain": [
       "(144867, 24)"
      ]
     },
     "execution_count": 40,
     "metadata": {},
     "output_type": "execute_result"
    }
   ],
   "source": [
    "df.shape"
   ]
  },
  {
   "cell_type": "code",
   "execution_count": 42,
   "id": "82249312-fe06-432e-a44b-4b3bf98d5da0",
   "metadata": {},
   "outputs": [
    {
     "data": {
      "text/plain": [
       "data                                0\n",
       "trip_creation_time                  0\n",
       "route_schedule_uuid                 0\n",
       "route_type                          0\n",
       "trip_uuid                           0\n",
       "source_center                       0\n",
       "source_name                       293\n",
       "destination_center                  0\n",
       "destination_name                  261\n",
       "od_start_time                       0\n",
       "od_end_time                         0\n",
       "start_scan_to_end_scan              0\n",
       "is_cutoff                           0\n",
       "cutoff_factor                       0\n",
       "cutoff_timestamp                    0\n",
       "actual_distance_to_destination      0\n",
       "actual_time                         0\n",
       "osrm_time                           0\n",
       "osrm_distance                       0\n",
       "factor                              0\n",
       "segment_actual_time                 0\n",
       "segment_osrm_time                   0\n",
       "segment_osrm_distance               0\n",
       "segment_factor                      0\n",
       "dtype: int64"
      ]
     },
     "execution_count": 42,
     "metadata": {},
     "output_type": "execute_result"
    }
   ],
   "source": [
    "df.isnull().sum()"
   ]
  },
  {
   "cell_type": "code",
   "execution_count": 46,
   "id": "6f1f670d-06cf-4236-802a-004a1ab521cc",
   "metadata": {},
   "outputs": [
    {
     "ename": "KeyError",
     "evalue": "\"['factor'] not found in axis\"",
     "output_type": "error",
     "traceback": [
      "\u001b[1;31m---------------------------------------------------------------------------\u001b[0m",
      "\u001b[1;31mKeyError\u001b[0m                                  Traceback (most recent call last)",
      "Cell \u001b[1;32mIn[46], line 1\u001b[0m\n\u001b[1;32m----> 1\u001b[0m df\u001b[38;5;241m.\u001b[39mdrop(columns\u001b[38;5;241m=\u001b[39m[\u001b[38;5;124m'\u001b[39m\u001b[38;5;124mfactor\u001b[39m\u001b[38;5;124m'\u001b[39m], inplace\u001b[38;5;241m=\u001b[39m\u001b[38;5;28;01mTrue\u001b[39;00m)\n",
      "File \u001b[1;32m~\\anaconda3\\Lib\\site-packages\\pandas\\core\\frame.py:5344\u001b[0m, in \u001b[0;36mDataFrame.drop\u001b[1;34m(self, labels, axis, index, columns, level, inplace, errors)\u001b[0m\n\u001b[0;32m   5196\u001b[0m \u001b[38;5;28;01mdef\u001b[39;00m \u001b[38;5;21mdrop\u001b[39m(\n\u001b[0;32m   5197\u001b[0m     \u001b[38;5;28mself\u001b[39m,\n\u001b[0;32m   5198\u001b[0m     labels: IndexLabel \u001b[38;5;241m|\u001b[39m \u001b[38;5;28;01mNone\u001b[39;00m \u001b[38;5;241m=\u001b[39m \u001b[38;5;28;01mNone\u001b[39;00m,\n\u001b[1;32m   (...)\u001b[0m\n\u001b[0;32m   5205\u001b[0m     errors: IgnoreRaise \u001b[38;5;241m=\u001b[39m \u001b[38;5;124m\"\u001b[39m\u001b[38;5;124mraise\u001b[39m\u001b[38;5;124m\"\u001b[39m,\n\u001b[0;32m   5206\u001b[0m ) \u001b[38;5;241m-\u001b[39m\u001b[38;5;241m>\u001b[39m DataFrame \u001b[38;5;241m|\u001b[39m \u001b[38;5;28;01mNone\u001b[39;00m:\n\u001b[0;32m   5207\u001b[0m \u001b[38;5;250m    \u001b[39m\u001b[38;5;124;03m\"\"\"\u001b[39;00m\n\u001b[0;32m   5208\u001b[0m \u001b[38;5;124;03m    Drop specified labels from rows or columns.\u001b[39;00m\n\u001b[0;32m   5209\u001b[0m \n\u001b[1;32m   (...)\u001b[0m\n\u001b[0;32m   5342\u001b[0m \u001b[38;5;124;03m            weight  1.0     0.8\u001b[39;00m\n\u001b[0;32m   5343\u001b[0m \u001b[38;5;124;03m    \"\"\"\u001b[39;00m\n\u001b[1;32m-> 5344\u001b[0m     \u001b[38;5;28;01mreturn\u001b[39;00m \u001b[38;5;28msuper\u001b[39m()\u001b[38;5;241m.\u001b[39mdrop(\n\u001b[0;32m   5345\u001b[0m         labels\u001b[38;5;241m=\u001b[39mlabels,\n\u001b[0;32m   5346\u001b[0m         axis\u001b[38;5;241m=\u001b[39maxis,\n\u001b[0;32m   5347\u001b[0m         index\u001b[38;5;241m=\u001b[39mindex,\n\u001b[0;32m   5348\u001b[0m         columns\u001b[38;5;241m=\u001b[39mcolumns,\n\u001b[0;32m   5349\u001b[0m         level\u001b[38;5;241m=\u001b[39mlevel,\n\u001b[0;32m   5350\u001b[0m         inplace\u001b[38;5;241m=\u001b[39minplace,\n\u001b[0;32m   5351\u001b[0m         errors\u001b[38;5;241m=\u001b[39merrors,\n\u001b[0;32m   5352\u001b[0m     )\n",
      "File \u001b[1;32m~\\anaconda3\\Lib\\site-packages\\pandas\\core\\generic.py:4711\u001b[0m, in \u001b[0;36mNDFrame.drop\u001b[1;34m(self, labels, axis, index, columns, level, inplace, errors)\u001b[0m\n\u001b[0;32m   4709\u001b[0m \u001b[38;5;28;01mfor\u001b[39;00m axis, labels \u001b[38;5;129;01min\u001b[39;00m axes\u001b[38;5;241m.\u001b[39mitems():\n\u001b[0;32m   4710\u001b[0m     \u001b[38;5;28;01mif\u001b[39;00m labels \u001b[38;5;129;01mis\u001b[39;00m \u001b[38;5;129;01mnot\u001b[39;00m \u001b[38;5;28;01mNone\u001b[39;00m:\n\u001b[1;32m-> 4711\u001b[0m         obj \u001b[38;5;241m=\u001b[39m obj\u001b[38;5;241m.\u001b[39m_drop_axis(labels, axis, level\u001b[38;5;241m=\u001b[39mlevel, errors\u001b[38;5;241m=\u001b[39merrors)\n\u001b[0;32m   4713\u001b[0m \u001b[38;5;28;01mif\u001b[39;00m inplace:\n\u001b[0;32m   4714\u001b[0m     \u001b[38;5;28mself\u001b[39m\u001b[38;5;241m.\u001b[39m_update_inplace(obj)\n",
      "File \u001b[1;32m~\\anaconda3\\Lib\\site-packages\\pandas\\core\\generic.py:4753\u001b[0m, in \u001b[0;36mNDFrame._drop_axis\u001b[1;34m(self, labels, axis, level, errors, only_slice)\u001b[0m\n\u001b[0;32m   4751\u001b[0m         new_axis \u001b[38;5;241m=\u001b[39m axis\u001b[38;5;241m.\u001b[39mdrop(labels, level\u001b[38;5;241m=\u001b[39mlevel, errors\u001b[38;5;241m=\u001b[39merrors)\n\u001b[0;32m   4752\u001b[0m     \u001b[38;5;28;01melse\u001b[39;00m:\n\u001b[1;32m-> 4753\u001b[0m         new_axis \u001b[38;5;241m=\u001b[39m axis\u001b[38;5;241m.\u001b[39mdrop(labels, errors\u001b[38;5;241m=\u001b[39merrors)\n\u001b[0;32m   4754\u001b[0m     indexer \u001b[38;5;241m=\u001b[39m axis\u001b[38;5;241m.\u001b[39mget_indexer(new_axis)\n\u001b[0;32m   4756\u001b[0m \u001b[38;5;66;03m# Case for non-unique axis\u001b[39;00m\n\u001b[0;32m   4757\u001b[0m \u001b[38;5;28;01melse\u001b[39;00m:\n",
      "File \u001b[1;32m~\\anaconda3\\Lib\\site-packages\\pandas\\core\\indexes\\base.py:7000\u001b[0m, in \u001b[0;36mIndex.drop\u001b[1;34m(self, labels, errors)\u001b[0m\n\u001b[0;32m   6998\u001b[0m \u001b[38;5;28;01mif\u001b[39;00m mask\u001b[38;5;241m.\u001b[39many():\n\u001b[0;32m   6999\u001b[0m     \u001b[38;5;28;01mif\u001b[39;00m errors \u001b[38;5;241m!=\u001b[39m \u001b[38;5;124m\"\u001b[39m\u001b[38;5;124mignore\u001b[39m\u001b[38;5;124m\"\u001b[39m:\n\u001b[1;32m-> 7000\u001b[0m         \u001b[38;5;28;01mraise\u001b[39;00m \u001b[38;5;167;01mKeyError\u001b[39;00m(\u001b[38;5;124mf\u001b[39m\u001b[38;5;124m\"\u001b[39m\u001b[38;5;132;01m{\u001b[39;00mlabels[mask]\u001b[38;5;241m.\u001b[39mtolist()\u001b[38;5;132;01m}\u001b[39;00m\u001b[38;5;124m not found in axis\u001b[39m\u001b[38;5;124m\"\u001b[39m)\n\u001b[0;32m   7001\u001b[0m     indexer \u001b[38;5;241m=\u001b[39m indexer[\u001b[38;5;241m~\u001b[39mmask]\n\u001b[0;32m   7002\u001b[0m \u001b[38;5;28;01mreturn\u001b[39;00m \u001b[38;5;28mself\u001b[39m\u001b[38;5;241m.\u001b[39mdelete(indexer)\n",
      "\u001b[1;31mKeyError\u001b[0m: \"['factor'] not found in axis\""
     ]
    }
   ],
   "source": [
    "df.drop(columns=['factor'], inplace=True)"
   ]
  },
  {
   "cell_type": "code",
   "execution_count": null,
   "id": "cbe7c86d-c114-42c9-a236-f1808e08d1ca",
   "metadata": {},
   "outputs": [],
   "source": []
  },
  {
   "cell_type": "code",
   "execution_count": null,
   "id": "c4f65132-6b1e-46f8-87c3-5b85dd66f530",
   "metadata": {},
   "outputs": [],
   "source": []
  }
 ],
 "metadata": {
  "kernelspec": {
   "display_name": "Python 3 (ipykernel)",
   "language": "python",
   "name": "python3"
  },
  "language_info": {
   "codemirror_mode": {
    "name": "ipython",
    "version": 3
   },
   "file_extension": ".py",
   "mimetype": "text/x-python",
   "name": "python",
   "nbconvert_exporter": "python",
   "pygments_lexer": "ipython3",
   "version": "3.11.7"
  }
 },
 "nbformat": 4,
 "nbformat_minor": 5
}
